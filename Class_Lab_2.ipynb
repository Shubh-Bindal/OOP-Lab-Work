{
  "nbformat": 4,
  "nbformat_minor": 0,
  "metadata": {
    "colab": {
      "name": "Class Lab 2",
      "provenance": [],
      "authorship_tag": "ABX9TyO22aNPYk76TNtZldAEAvAj",
      "include_colab_link": true
    },
    "kernelspec": {
      "name": "python3",
      "display_name": "Python 3"
    },
    "language_info": {
      "name": "python"
    }
  },
  "cells": [
    {
      "cell_type": "markdown",
      "metadata": {
        "id": "view-in-github",
        "colab_type": "text"
      },
      "source": [
        "<a href=\"https://colab.research.google.com/github/Shubh-Bindal/OOP-Lab-Work/blob/master/Class_Lab_2.ipynb\" target=\"_parent\"><img src=\"https://colab.research.google.com/assets/colab-badge.svg\" alt=\"Open In Colab\"/></a>"
      ]
    },
    {
      "cell_type": "code",
      "metadata": {
        "id": "P4tXqo8-cyJm",
        "colab": {
          "base_uri": "https://localhost:8080/"
        },
        "outputId": "b8346603-b3c5-4c1d-8e00-8700b8a38ec5"
      },
      "source": [
        "#Program 1\n",
        "a=\" iiit dwd \"\n",
        "print(a.upper())\n",
        "print(a.lower())\n",
        "print(a.strip())\n",
        "print(a.replace(\" \", \"\"))\n",
        "print(a.split())"
      ],
      "execution_count": 1,
      "outputs": [
        {
          "output_type": "stream",
          "name": "stdout",
          "text": [
            " IIIT DWD \n",
            " iiit dwd \n",
            "iiit dwd\n",
            "iiitdwd\n",
            "['iiit', 'dwd']\n"
          ]
        }
      ]
    },
    {
      "cell_type": "code",
      "metadata": {
        "colab": {
          "base_uri": "https://localhost:8080/"
        },
        "id": "CzznPdZU14C8",
        "outputId": "5033134e-1b5d-4777-ca8d-62606740496f"
      },
      "source": [
        "#Program 2\n",
        "a=int(input(\"enter the integer\\n\"))\n",
        "if(a>0):\n",
        "    print(\"integer is positive\\n\")\n",
        "elif a<0:\n",
        "    print(\"integer is negative\\n\")\n",
        "else:\n",
        "    print(\"integer is 0\\n\")"
      ],
      "execution_count": 3,
      "outputs": [
        {
          "output_type": "stream",
          "name": "stdout",
          "text": [
            "enter the integer\n",
            "25\n",
            "integer is positive\n",
            "\n"
          ]
        }
      ]
    },
    {
      "cell_type": "code",
      "metadata": {
        "colab": {
          "base_uri": "https://localhost:8080/"
        },
        "id": "9X5XPXQ22DLF",
        "outputId": "f6b60116-5dab-4bcb-e30a-7b055b175139"
      },
      "source": [
        "#Program 3\n",
        "age=int(input(\"Enter you age\\n\"))\n",
        "if age>=35:\n",
        "    print(\"You are eligible\\n\")\n",
        "else:\n",
        "    print(\"you are not eligible\\n\")"
      ],
      "execution_count": 4,
      "outputs": [
        {
          "output_type": "stream",
          "name": "stdout",
          "text": [
            "Enter you age\n",
            "65\n",
            "You are eligible\n",
            "\n"
          ]
        }
      ]
    },
    {
      "cell_type": "code",
      "metadata": {
        "colab": {
          "base_uri": "https://localhost:8080/"
        },
        "id": "-Ia1fPGq2JVa",
        "outputId": "3b85501d-9ee3-49c7-8a97-9f488338aaea"
      },
      "source": [
        "#Program 4\n",
        "list1=[\"Monday\",\"Tuesday\",\"wednesday\",\"thursday\",\"friday\",\"Saturday\",\"Sunday\"]\n",
        "print(list1[0],list1[1],list1[-2],list1[-1])\n",
        "list1.append(\"extra day\")\n",
        "print(list1)\n",
        "print(list1.insert(-1,\"orange\"))\n",
        "list1.remove(\"extra day\")\n",
        "print(list1)\n",
        "print(list1.pop(-1))\n",
        "print(list1)\n",
        "newlist=list()\n",
        "for x in list1:\n",
        "    if x[0]==\"S\":\n",
        "        newlist.append(x)\n",
        "print(newlist)\n"
      ],
      "execution_count": 5,
      "outputs": [
        {
          "output_type": "stream",
          "name": "stdout",
          "text": [
            "Monday Tuesday Saturday Sunday\n",
            "['Monday', 'Tuesday', 'wednesday', 'thursday', 'friday', 'Saturday', 'Sunday', 'extra day']\n",
            "None\n",
            "['Monday', 'Tuesday', 'wednesday', 'thursday', 'friday', 'Saturday', 'Sunday', 'orange']\n",
            "orange\n",
            "['Monday', 'Tuesday', 'wednesday', 'thursday', 'friday', 'Saturday', 'Sunday']\n",
            "['Saturday', 'Sunday']\n"
          ]
        }
      ]
    },
    {
      "cell_type": "code",
      "metadata": {
        "colab": {
          "base_uri": "https://localhost:8080/"
        },
        "id": "H0XWjes_2QBq",
        "outputId": "756672d8-60b5-441a-bc30-72e8661c96f0"
      },
      "source": [
        "#Program 5\n",
        "list2=[1,3,6,2,4,5]\n",
        "list2.sort()\n",
        "print(list2)\n",
        "list2.sort(reverse=True)\n",
        "print(list2)\n",
        "print(max(list2))\n",
        "print(min(list2))\n"
      ],
      "execution_count": 12,
      "outputs": [
        {
          "output_type": "stream",
          "name": "stdout",
          "text": [
            "[1, 2, 3, 4, 5, 6]\n",
            "[6, 5, 4, 3, 2, 1]\n",
            "6\n",
            "1\n"
          ]
        }
      ]
    },
    {
      "cell_type": "code",
      "metadata": {
        "colab": {
          "base_uri": "https://localhost:8080/"
        },
        "id": "mrRhn5W62V4f",
        "outputId": "22705c3a-0db6-4143-c6ee-72b4022e68c9"
      },
      "source": [
        "#Program 6\n",
        "dic1={\"Brand\":\"apple\",\"model\":\"pro\",\"year\":\"1967\"}\n",
        "print(dic1.items())\n",
        "print(dic1.keys())\n",
        "print(dic1.values())\n",
        "dic1[\"year\"]=\"2002\"\n",
        "print(dic1.items(   ))\n",
        "print(dic1.popitem())\n",
        "print(dic1)\n",
        "print(dic1.pop(\"Brand\"))\n",
        "print(dic1)"
      ],
      "execution_count": 14,
      "outputs": [
        {
          "output_type": "stream",
          "name": "stdout",
          "text": [
            "dict_items([('Brand', 'apple'), ('model', 'pro'), ('year', '1967')])\n",
            "dict_keys(['Brand', 'model', 'year'])\n",
            "dict_values(['apple', 'pro', '1967'])\n",
            "dict_items([('Brand', 'apple'), ('model', 'pro'), ('year', '2002')])\n",
            "('year', '2002')\n",
            "{'Brand': 'apple', 'model': 'pro'}\n",
            "apple\n",
            "{'model': 'pro'}\n"
          ]
        }
      ]
    }
  ]
}